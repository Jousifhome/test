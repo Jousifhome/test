{
 "cells": [
  {
   "cell_type": "code",
   "execution_count": 3,
   "id": "5a08a076",
   "metadata": {},
   "outputs": [
    {
     "name": "stdout",
     "output_type": "stream",
     "text": [
      "CUDA Available: True\n",
      "Number of GPUs: 1\n",
      "Current GPU Device Index: 0\n",
      "GPU Name: NVIDIA GeForce RTX 3060 Laptop GPU\n",
      "\n",
      "Tensor on CPU: tensor([[ 0.5615, -0.5262, -2.3469],\n",
      "        [ 0.0676,  0.5506,  0.4038],\n",
      "        [-0.6360, -1.3856, -0.5868]])\n",
      "Tensor on GPU: tensor([[ 0.5615, -0.5262, -2.3469],\n",
      "        [ 0.0676,  0.5506,  0.4038],\n",
      "        [-0.6360, -1.3856, -0.5868]], device='cuda:0')\n",
      "Tensor device: cuda:0\n"
     ]
    }
   ],
   "source": [
    "import torch\n",
    "\n",
    "# Check if CUDA (GPU) is available\n",
    "print(\"CUDA Available:\", torch.cuda.is_available())\n",
    "\n",
    "# Get number of GPUs\n",
    "print(\"Number of GPUs:\", torch.cuda.device_count())\n",
    "\n",
    "# Get current GPU device index\n",
    "print(\"Current GPU Device Index:\", torch.cuda.current_device())\n",
    "\n",
    "# Get GPU name\n",
    "if torch.cuda.is_available():\n",
    "    print(\"GPU Name:\", torch.cuda.get_device_name(torch.cuda.current_device()))\n",
    "\n",
    "# Create a tensor and move it to GPU\n",
    "x = torch.randn(3, 3)\n",
    "print(\"\\nTensor on CPU:\", x)\n",
    "\n",
    "if torch.cuda.is_available():\n",
    "    x = x.cuda()  # or x = x.to('cuda')\n",
    "    print(\"Tensor on GPU:\", x)\n",
    "    print(\"Tensor device:\", x.device)\n",
    "else:\n",
    "    print(\"No GPU available. Tensor remains on CPU.\")"
   ]
  },
  {
   "cell_type": "code",
   "execution_count": 4,
   "id": "979bead2",
   "metadata": {},
   "outputs": [
    {
     "name": "stdout",
     "output_type": "stream",
     "text": [
      "CUDA Available: True\n",
      "Number of GPUs: 1\n",
      "Current GPU Device Index: 0\n",
      "GPU Name: NVIDIA GeForce RTX 3060 Laptop GPU\n",
      "\n",
      "Tensor on CPU: tensor([[ 0.3847, -2.0050, -1.4225],\n",
      "        [ 1.6514,  0.5600, -0.5562],\n",
      "        [-1.2692,  1.7439, -0.0933]])\n",
      "Tensor on GPU: tensor([[ 0.3847, -2.0050, -1.4225],\n",
      "        [ 1.6514,  0.5600, -0.5562],\n",
      "        [-1.2692,  1.7439, -0.0933]], device='cuda:0')\n",
      "Tensor device: cuda:0\n"
     ]
    }
   ],
   "source": [
    "import torch\n",
    "\n",
    "# Check if CUDA (GPU) is available\n",
    "print(\"CUDA Available:\", torch.cuda.is_available())\n",
    "\n",
    "# Get number of GPUs\n",
    "print(\"Number of GPUs:\", torch.cuda.device_count())\n",
    "\n",
    "# Get current GPU device index\n",
    "print(\"Current GPU Device Index:\", torch.cuda.current_device())\n",
    "\n",
    "# Get GPU name\n",
    "if torch.cuda.is_available():\n",
    "    print(\"GPU Name:\", torch.cuda.get_device_name(torch.cuda.current_device()))\n",
    "\n",
    "# Create a tensor and move it to GPU\n",
    "x = torch.randn(3, 3)\n",
    "print(\"\\nTensor on CPU:\", x)\n",
    "\n",
    "if torch.cuda.is_available():\n",
    "    x = x.cuda()  # or x = x.to('cuda')\n",
    "    print(\"Tensor on GPU:\", x)\n",
    "    print(\"Tensor device:\", x.device)\n",
    "else:\n",
    "    print(\"No GPU available. Tensor remains on CPU.\")"
   ]
  }
 ],
 "metadata": {
  "kernelspec": {
   "display_name": "AI Project UV",
   "language": "python",
   "name": "python3"
  },
  "language_info": {
   "codemirror_mode": {
    "name": "ipython",
    "version": 3
   },
   "file_extension": ".py",
   "mimetype": "text/x-python",
   "name": "python",
   "nbconvert_exporter": "python",
   "pygments_lexer": "ipython3",
   "version": "3.13.5"
  }
 },
 "nbformat": 4,
 "nbformat_minor": 5
}
