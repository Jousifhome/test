{
 "cells": [
  {
   "cell_type": "markdown",
   "id": "8fc44a7c",
   "metadata": {},
   "source": [
    "## Face Emotion Test using an Image"
   ]
  },
  {
   "cell_type": "markdown",
   "id": "97814e55",
   "metadata": {},
   "source": [
    "### Happy Face Image Test"
   ]
  },
  {
   "cell_type": "code",
   "execution_count": 3,
   "id": "a1c14912",
   "metadata": {},
   "outputs": [
    {
     "name": "stdout",
     "output_type": "stream",
     "text": [
      "cuda\n",
      "Predicted emotion: Angry\n"
     ]
    }
   ],
   "source": [
    "from PIL import Image\n",
    "import torch\n",
    "import torch.nn as nn\n",
    "from torchvision import transforms, models\n",
    "\n",
    "# Config\n",
    "img_path = \"happyboy.jpg\"   # your test image\n",
    "num_classes = 7\n",
    "save_path = \"Final_ModelV2.pth\"\n",
    "\n",
    "device = torch.device(\"cuda\" if torch.cuda.is_available() else \"cpu\")\n",
    "print(device)\n",
    "\n",
    "# Transform\n",
    "transform = transforms.Compose([\n",
    "    transforms.Resize((224,224)),\n",
    "    transforms.ToTensor(),\n",
    "    transforms.Normalize(mean=[0.485, 0.456, 0.406],\n",
    "                         std=[0.229, 0.224, 0.225])\n",
    "])\n",
    "\n",
    "# Load model\n",
    "model = models.resnet18(weights=None)\n",
    "model.fc = nn.Linear(model.fc.in_features, num_classes)\n",
    "model.load_state_dict(torch.load(save_path, map_location=device))\n",
    "model = model.to(device)\n",
    "model.eval()\n",
    "\n",
    "# Load image\n",
    "img = Image.open(img_path).convert(\"RGB\")\n",
    "img = transform(img).unsqueeze(0).to(device)\n",
    "\n",
    "# Predict\n",
    "emotions = {0:\"Angry\", 1:\"Disgust\", 2:\"Fear\", 3:\"Happy\", 4:\"Neutral\", 5:\"Sad\", 6:\"Surprised\"}\n",
    "with torch.no_grad():\n",
    "    outputs = model(img)\n",
    "    _, predicted = torch.max(outputs, 1)\n",
    "    print(\"Predicted emotion:\", emotions[predicted.item()])\n"
   ]
  },
  {
   "cell_type": "markdown",
   "id": "56ca1f68",
   "metadata": {},
   "source": [
    "### Sad Face Image Test"
   ]
  },
  {
   "cell_type": "code",
   "execution_count": 5,
   "id": "fd938a96",
   "metadata": {},
   "outputs": [
    {
     "name": "stdout",
     "output_type": "stream",
     "text": [
      "Predicted emotion: Angry\n"
     ]
    }
   ],
   "source": [
    "from PIL import Image\n",
    "import torch\n",
    "import torch.nn as nn\n",
    "from torchvision import transforms, models\n",
    "\n",
    "# --- Config ---\n",
    "img_path = \"happyboy.jpg\"   # your test image\n",
    "num_classes = 7\n",
    "save_path = \"Final_ModelV2.pth\"\n",
    "\n",
    "device = torch.device(\"cuda\" if torch.cuda.is_available() else \"cpu\")\n",
    "\n",
    "# --- Transform ---\n",
    "transform = transforms.Compose([\n",
    "    transforms.Resize((224,224)),\n",
    "    transforms.ToTensor(),\n",
    "    transforms.Normalize(mean=[0.485, 0.456, 0.406],\n",
    "                         std=[0.229, 0.224, 0.225])\n",
    "])\n",
    "\n",
    "# --- Model ---\n",
    "# Use weights=None → avoids pretrained deprecation warning\n",
    "model = models.resnet18(weights=None)\n",
    "model.fc = nn.Linear(model.fc.in_features, num_classes)\n",
    "model.load_state_dict(torch.load(save_path, map_location=device))\n",
    "model = model.to(device)\n",
    "model.eval()\n",
    "\n",
    "# --- Load image ---\n",
    "img = Image.open(img_path).convert(\"RGB\")\n",
    "img = transform(img).unsqueeze(0).to(device)\n",
    "\n",
    "# --- Predict ---\n",
    "emotions = {0:\"Angry\", 1:\"Disgust\", 2:\"Fear\", 3:\"Happy\", 4:\"Neutral\", 5:\"Sad\", 6:\"Surprised\"}\n",
    "with torch.no_grad():\n",
    "    outputs = model(img)\n",
    "    _, predicted = torch.max(outputs, 1)\n",
    "    print(\"Predicted emotion:\", emotions[predicted.item()])\n"
   ]
  },
  {
   "cell_type": "markdown",
   "id": "d358eacb",
   "metadata": {},
   "source": [
    "## Face Emotion Test using Test Data"
   ]
  },
  {
   "cell_type": "code",
   "execution_count": 5,
   "id": "14230c71",
   "metadata": {},
   "outputs": [
    {
     "name": "stdout",
     "output_type": "stream",
     "text": [
      "cuda\n",
      "Test Accuracy: 65.35%\n"
     ]
    }
   ],
   "source": [
    "import torch\n",
    "from torch.utils.data import DataLoader\n",
    "from torchvision import datasets, transforms, models\n",
    "import torch.nn as nn\n",
    "import os\n",
    "\n",
    "# --- Config ---\n",
    "data_dir = r\"C:\\Users\\HWA\\Desktop\\AI Project UV\"\n",
    "batch_size = 64\n",
    "num_classes = 7\n",
    "save_path = \"Final_ModelV2.pth\"\n",
    "\n",
    "device = torch.device(\"cuda\" if torch.cuda.is_available() else \"cpu\")\n",
    "print(device)\n",
    "\n",
    "# --- Transforms ---\n",
    "transform = transforms.Compose([\n",
    "    transforms.Resize((224,224)),\n",
    "    transforms.ToTensor(),\n",
    "    transforms.Normalize(mean=[0.485, 0.456, 0.406],\n",
    "                         std=[0.229, 0.224, 0.225])\n",
    "])\n",
    "\n",
    "# --- Dataset & Loader ---\n",
    "test_dataset = datasets.ImageFolder(os.path.join(data_dir, \"test\"), transform=transform)\n",
    "test_loader = DataLoader(test_dataset, batch_size=batch_size, shuffle=False)\n",
    "\n",
    "# --- Model ---\n",
    "# Use weights=None to avoid the deprecation warning\n",
    "model = models.resnet18(weights=None)\n",
    "model.fc = nn.Linear(model.fc.in_features, num_classes)\n",
    "model.load_state_dict(torch.load(save_path, map_location=device))\n",
    "model = model.to(device)\n",
    "model.eval()\n",
    "\n",
    "# --- Evaluation ---\n",
    "correct, total = 0, 0\n",
    "with torch.no_grad():\n",
    "    for images, labels in test_loader:\n",
    "        images, labels = images.to(device), labels.to(device)\n",
    "        outputs = model(images)\n",
    "        _, predicted = torch.max(outputs, 1)\n",
    "        total += labels.size(0)\n",
    "        correct += (predicted == labels).sum().item()\n",
    "\n",
    "acc = 100 * correct / total\n",
    "print(f\"Test Accuracy: {acc:.2f}%\")\n"
   ]
  },
  {
   "cell_type": "markdown",
   "id": "33a68066",
   "metadata": {},
   "source": [
    "## Model Accuracy for each Emotion with Confusion Matrix"
   ]
  },
  {
   "cell_type": "code",
   "execution_count": 7,
   "id": "b497e9b1",
   "metadata": {},
   "outputs": [
    {
     "name": "stdout",
     "output_type": "stream",
     "text": [
      "Using device: cuda\n",
      "Classes: ['angry', 'disgust', 'fear', 'happy', 'neutral', 'sad', 'surprise']\n",
      "\n",
      " Test Accuracy: 65.35%\n",
      "\n",
      " Per-Class Accuracy:\n",
      "angry          : 58.66%\n",
      "disgust        : 52.25%\n",
      "fear           : 41.41%\n",
      "happy          : 86.58%\n",
      "neutral        : 61.15%\n",
      "sad            : 56.86%\n",
      "surprise       : 77.98%\n"
     ]
    },
    {
     "data": {
      "image/png": "[encoded data removed]",
      "text/plain": [
       "<Figure size 800x600 with 2 Axes>"
      ]
     },
     "metadata": {},
     "output_type": "display_data"
    }
   ],
   "source": [
    "import torch\n",
    "from torch.utils.data import DataLoader\n",
    "from torchvision import datasets, transforms, models\n",
    "import torch.nn as nn\n",
    "import os\n",
    "import matplotlib.pyplot as plt\n",
    "import seaborn as sns\n",
    "from sklearn.metrics import confusion_matrix\n",
    "import numpy as np\n",
    "\n",
    "# --- Config ---\n",
    "data_dir = r\"C:\\Users\\HWA\\Desktop\\AI Project UV\"\n",
    "batch_size = 64\n",
    "num_classes = 7\n",
    "save_path = \"Final_ModelV2.pth\"\n",
    "\n",
    "device = torch.device(\"cuda\" if torch.cuda.is_available() else \"cpu\")\n",
    "print(f\"Using device: {device}\")\n",
    "\n",
    "# --- Transforms ---\n",
    "transform = transforms.Compose([\n",
    "    transforms.Resize((224,224)),\n",
    "    transforms.ToTensor(),\n",
    "    transforms.Normalize(mean=[0.485, 0.456, 0.406],\n",
    "                         std=[0.229, 0.224, 0.225])\n",
    "])\n",
    "\n",
    "# --- Dataset & Loader ---\n",
    "test_dataset = datasets.ImageFolder(os.path.join(data_dir, \"test\"), transform=transform)\n",
    "test_loader = DataLoader(test_dataset, batch_size=batch_size, shuffle=False)\n",
    "\n",
    "class_names = test_dataset.classes\n",
    "print(\"Classes:\", class_names)\n",
    "\n",
    "# --- Model ---\n",
    "model = models.resnet18(weights=None)\n",
    "model.fc = nn.Linear(model.fc.in_features, num_classes)\n",
    "model.load_state_dict(torch.load(save_path, map_location=device))\n",
    "model = model.to(device)\n",
    "model.eval()\n",
    "\n",
    "# --- Evaluation ---\n",
    "correct, total = 0, 0\n",
    "all_labels = []\n",
    "all_preds = []\n",
    "\n",
    "with torch.no_grad():\n",
    "    for images, labels in test_loader:\n",
    "        images, labels = images.to(device), labels.to(device)\n",
    "        outputs = model(images)\n",
    "        _, predicted = torch.max(outputs, 1)\n",
    "        total += labels.size(0)\n",
    "        correct += (predicted == labels).sum().item()\n",
    "\n",
    "        all_labels.extend(labels.cpu().numpy())\n",
    "        all_preds.extend(predicted.cpu().numpy())\n",
    "\n",
    "acc = 100 * correct / total\n",
    "print(f\"\\n Test Accuracy: {acc:.2f}%\")\n",
    "\n",
    "# --- Per-Class Accuracy ---\n",
    "all_labels = np.array(all_labels)\n",
    "all_preds = np.array(all_preds)\n",
    "\n",
    "print(\"\\n Per-Class Accuracy:\")\n",
    "for i, cls in enumerate(class_names):\n",
    "    cls_mask = (all_labels == i)\n",
    "    cls_total = np.sum(cls_mask)\n",
    "    cls_correct = np.sum(all_preds[cls_mask] == i)\n",
    "    acc_cls = 100 * cls_correct / cls_total if cls_total > 0 else 0\n",
    "    print(f\"{cls:15s}: {acc_cls:.2f}%\")\n",
    "\n",
    "# --- Confusion Matrix ---\n",
    "cm = confusion_matrix(all_labels, all_preds)\n",
    "plt.figure(figsize=(8,6))\n",
    "sns.heatmap(cm, annot=True, fmt=\"d\", cmap=\"Blues\",\n",
    "            xticklabels=class_names, yticklabels=class_names)\n",
    "plt.xlabel(\"Predicted\")\n",
    "plt.ylabel(\"True\")\n",
    "plt.title(\"Confusion Matrix\")\n",
    "plt.tight_layout()\n",
    "plt.show()"
   ]
  }
 ],
 "metadata": {
  "kernelspec": {
   "display_name": "AI Project UV",
   "language": "python",
   "name": "python3"
  },
  "language_info": {
   "codemirror_mode": {
    "name": "ipython",
    "version": 3
   },
   "file_extension": ".py",
   "mimetype": "text/x-python",
   "name": "python",
   "nbconvert_exporter": "python",
   "pygments_lexer": "ipython3",
   "version": "3.13.5"
  }
 },
 "nbformat": 4,
 "nbformat_minor": 5
}
